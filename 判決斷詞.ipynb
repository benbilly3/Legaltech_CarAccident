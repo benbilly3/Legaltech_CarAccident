{
 "cells": [
  {
   "cell_type": "code",
   "execution_count": null,
   "metadata": {},
   "outputs": [],
   "source": [
    "import jieba \n",
    "import jieba.analyse\n",
    "import legaltechDataProcess as ltp\n",
    "import pandas as pd\n",
    "from collections import Counter"
   ]
  },
  {
   "cell_type": "markdown",
   "metadata": {},
   "source": [
    "# 欄位分群"
   ]
  },
  {
   "cell_type": "code",
   "execution_count": null,
   "metadata": {
    "scrolled": false
   },
   "outputs": [],
   "source": [
    "# df=pd.read_pickle(\"/Users/benbilly3/Desktop/Legaltech/MoreData/solatium_accident.pickle\")\n",
    "# df=ltp.pdColFilter(df,\"court\",\"地方法院\")#第二審以上難分上訴人是否為請求賠償人\n",
    "# df=ltp.pdColFilter(df,\"judgement\",\"車禍\",'事故')#第二審以上難分上訴人是否為請求賠償人\n",
    "# df=ltp.winOrloss(df)#勝敗訴\n",
    "# df=ltp.pdMoneyCol(df,'mainText','jd_money')#提取金額\n",
    "# df.to_pickle(\"/Users/benbilly3/Desktop/Legaltech/MoreData/solatium_accident_winOrloss.pickle\")\n",
    "df=pd.read_pickle(\"/Users/benbilly3/Desktop/Legaltech/MoreData/result.pickle\")\n",
    "df=df.iloc[100:150]\n",
    "df['opinion']=df['opinion'].apply(lambda s:ltp.replaceWords(s,'適合','正當','適當','有據','合宜','公允','允當','相當','可採').replace('適合適合','適合'))\n",
    "df['jd_solatium']=df['opinion'].apply(lambda s:ltp.selectSentSetReduce(s))\n",
    "df\n",
    "\n"
   ]
  },
  {
   "cell_type": "code",
   "execution_count": null,
   "metadata": {
    "scrolled": false
   },
   "outputs": [],
   "source": [
    "df['opinion'].iloc[-4]"
   ]
  },
  {
   "cell_type": "code",
   "execution_count": null,
   "metadata": {
    "scrolled": false
   },
   "outputs": [],
   "source": [
    "#Pandas內容包含搜尋\n",
    "def pdColFilter(dataframe,col_name,*args):\n",
    "    for key in args:\n",
    "        select=dataframe[col_name].values.tolist()\n",
    "        a=[key in i for i in select]\n",
    "        dataframe=dataframe[a]\n",
    "    return  dataframe\n",
    "\n",
    "df2=pdColFilter(df,\"judgement\",\"植物人\")\n",
    "df2['opinion'].iloc[18]\n",
    "# pdColFilter(pdGet(collection2,0,5000),\"judgement\",\"事故\",\"車禍\")"
   ]
  },
  {
   "cell_type": "code",
   "execution_count": null,
   "metadata": {},
   "outputs": [],
   "source": [
    "#把請求慰撫金金額抽出\n",
    "# df['solatiumSelectMoney']= df['solatium'].apply(lambda i :ltp.solatiumSelectMoney2(i))\n",
    "ltp.pdMoneyCol(df,'mainText','jd_money')\n",
    "\n",
    "\n",
    "# def pdMoneyCol(df,col_name,money_col_name):\n",
    "#     df[money_col_name]=df[col_name].apply(lambda s:jiebaSelectMoney(s)).apply(lambda s: chinese_to_arabic(s))\n",
    "#     return df"
   ]
  },
  {
   "cell_type": "code",
   "execution_count": null,
   "metadata": {},
   "outputs": [],
   "source": [
    "df['solatium_request']= df['solatium'].apply(lambda i :ltp.solatiumSelectMoney2(i))\n",
    "df"
   ]
  },
  {
   "cell_type": "code",
   "execution_count": null,
   "metadata": {},
   "outputs": [],
   "source": [
    "df=df.fillna(0)\n",
    "len(df[df['solatium_request']>0])"
   ]
  },
  {
   "cell_type": "code",
   "execution_count": null,
   "metadata": {},
   "outputs": [],
   "source": [
    "df2=df[~df['jd_money'].isna() ]\n",
    "df2=df2[~df2['solatium_request'].isna() ]\n",
    "df2=df2[df2['solatium_request']>0]#拿掉為0的值\n",
    "df2.to_pickle(\"/Users/benbilly3/Desktop/Legaltech/MoreData/result.pickle\")\n",
    "df2\n",
    "# df2['solatium_request']=x=df2[df2[\"solatium_request\"]>10000000].apply\n",
    "# df2['solatium_request']\n",
    "# x=x[x['jd_money']-x['solatium_request']>=0]\n",
    "# x"
   ]
  },
  {
   "cell_type": "code",
   "execution_count": null,
   "metadata": {},
   "outputs": [],
   "source": [
    "df['solatium'].loc[17545]"
   ]
  },
  {
   "cell_type": "markdown",
   "metadata": {},
   "source": [
    "# ##  關鍵字功能\n",
    "\n",
    "tf - idf :\n",
    "https://reurl.cc/MeRYX"
   ]
  },
  {
   "cell_type": "code",
   "execution_count": null,
   "metadata": {},
   "outputs": [],
   "source": [
    "#關鍵字抽取，要跑很久\n",
    "\n",
    "x['keyword']=x['judgement'].apply(lambda s:ltp.tfidf_RSW(s,30,allowPOS=()))\n",
    "x\n"
   ]
  },
  {
   "cell_type": "code",
   "execution_count": null,
   "metadata": {},
   "outputs": [],
   "source": [
    "#詞彙多樣性\n",
    "\n",
    "def jiebCutToText(text):\n",
    "    seg_list = jieba.cut(sent, cut_all=False)\n",
    "    segments='/ '.join(seg_list)\n",
    "    return segments\n",
    "\n",
    "def lexical_diversity(text):\n",
    "    return round((len(set(text)) / len(text))*100,4)\n",
    "\n",
    "def pdTupleToDf(df,col_name1,col_name2):\n",
    "    d=[]\n",
    "    d2=[]\n",
    "    for n in range(len(df)):#\n",
    "        s=df.iloc[n]\n",
    "        for k,v in s:\n",
    "            d.append(k)\n",
    "            d2.append(v)\n",
    "    return pd.DataFrame({col_name1:d,col_name2:d2},index=range(len(d)))\n",
    "\n",
    "def pdTupleToDf2(list_dadta,col_name1,col_name2):\n",
    "    d=[]\n",
    "    d2=[]\n",
    "    for k,v in list_dadta:\n",
    "        d.append(k)\n",
    "        d2.append(v)\n",
    "    return pd.DataFrame({col_name1:d,col_name2:d2},index=range(len(d)))\n"
   ]
  },
  {
   "cell_type": "code",
   "execution_count": null,
   "metadata": {},
   "outputs": [],
   "source": [
    "D=pdTupleToDf(x[\"keyword\"],\"keyword\",\"tfidf_value\")\n",
    "sector = D.groupby(\"keyword\").sum()\n",
    "d=D.sort_values([\"tfidf_value\"])\n",
    "count = Counter(d['keyword']).most_common(500)\n",
    "count=pdTupleToDf2(count,\"keyword\",\"count\")\n",
    "count.to_csv(\"C:/Users/User/Desktop/Legaltech/MoreData/solatium_accident_commonword.csv\")\n",
    "count"
   ]
  }
 ],
 "metadata": {
  "kernelspec": {
   "display_name": "Python 3",
   "language": "python",
   "name": "python3"
  },
  "language_info": {
   "codemirror_mode": {
    "name": "ipython",
    "version": 3
   },
   "file_extension": ".py",
   "mimetype": "text/x-python",
   "name": "python",
   "nbconvert_exporter": "python",
   "pygments_lexer": "ipython3",
   "version": "3.6.8"
  }
 },
 "nbformat": 4,
 "nbformat_minor": 2
}
