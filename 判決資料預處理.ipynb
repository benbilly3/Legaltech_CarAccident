{
 "cells": [
  {
   "cell_type": "markdown",
   "metadata": {},
   "source": [
    "# 引入模組"
   ]
  },
  {
   "cell_type": "code",
   "execution_count": null,
   "metadata": {},
   "outputs": [],
   "source": [
    "import legaltechDataProcess as ltp\n",
    "import json\n",
    "import pymongo\n",
    "from pymongo import MongoClient\n",
    "import pandas as pd\n",
    "import os"
   ]
  },
  {
   "cell_type": "markdown",
   "metadata": {},
   "source": [
    "# 初始化建立資料庫"
   ]
  },
  {
   "cell_type": "code",
   "execution_count": null,
   "metadata": {},
   "outputs": [],
   "source": [
    "collection=ltp.enterLocalMD(\"judgement_database\" ,\"solatiumaccident\")"
   ]
  },
  {
   "cell_type": "markdown",
   "metadata": {},
   "source": [
    "# 提取資料庫轉pandas"
   ]
  },
  {
   "cell_type": "markdown",
   "metadata": {},
   "source": [
    "# Select Demo"
   ]
  },
  {
   "cell_type": "code",
   "execution_count": null,
   "metadata": {},
   "outputs": [],
   "source": [
    "# df=ltp.mdGeneralFilter(collection,reason=\"損害賠償\")#reason=\"損害賠償\",sys=\"民事\"\n",
    "# dfx=ltp.pdColFilter(df,\"judgement\",\"慰撫金\")\n",
    "# dft=dfx.iloc[:,1:]\n",
    "# dft.to_json(\"/Users/benbilly3/Desktop/法學資料判決集/車禍損害賠償/慰撫金\"+\"all\"+\".json\",orient='records')"
   ]
  },
  {
   "cell_type": "code",
   "execution_count": null,
   "metadata": {},
   "outputs": [],
   "source": [
    "# df=ltp.pdColFilter(ltp.pdGet(collection2,0,50000),\"judgement\",\"事故\",\"車禍\")\n",
    "# df=df.astype(str)#欄位內容有list，需轉字串\n",
    "# df=ltp.pdColFilter(df,\"reason\",\"損害賠償\")\n",
    "df=ltp.pdColFilter(ltp.pdGet(collection),\"judgement\",\"慰撫金\")\n",
    "df"
   ]
  },
  {
   "cell_type": "code",
   "execution_count": null,
   "metadata": {},
   "outputs": [],
   "source": [
    "df.loc[389,\"mainText\"]"
   ]
  },
  {
   "cell_type": "code",
   "execution_count": null,
   "metadata": {},
   "outputs": [],
   "source": [
    "df.loc[389,\"judgement\"]"
   ]
  },
  {
   "cell_type": "markdown",
   "metadata": {},
   "source": [
    "# 斷詞Demo"
   ]
  },
  {
   "cell_type": "code",
   "execution_count": null,
   "metadata": {},
   "outputs": [],
   "source": [
    "import jieba \n",
    "sent =  df.loc[389,\"judgement\"]\n",
    "seg_list = jieba.cut(sent, cut_all=True) \n",
    "print('精確模式：', '/ '.join(seg_list)) "
   ]
  },
  {
   "cell_type": "code",
   "execution_count": null,
   "metadata": {},
   "outputs": [],
   "source": [
    "mypath=\"/Users/benbilly3/Desktop/法學資料判決集\"\n",
    "files_name=os.listdir(mypath)\n",
    "files_name.remove('.DS_Store')\n",
    "dirs_list=[mypath+\"/\"+i for i in files_name]#法院資料夾路徑\n",
    "ltp.jdImport2(dirs_list[0:1],collection2)"
   ]
  },
  {
   "cell_type": "code",
   "execution_count": null,
   "metadata": {},
   "outputs": [],
   "source": []
  }
 ],
 "metadata": {
  "kernelspec": {
   "display_name": "Python 3",
   "language": "python",
   "name": "python3"
  },
  "language_info": {
   "codemirror_mode": {
    "name": "ipython",
    "version": 3
   },
   "file_extension": ".py",
   "mimetype": "text/x-python",
   "name": "python",
   "nbconvert_exporter": "python",
   "pygments_lexer": "ipython3",
   "version": "3.6.8"
  }
 },
 "nbformat": 4,
 "nbformat_minor": 2
}
