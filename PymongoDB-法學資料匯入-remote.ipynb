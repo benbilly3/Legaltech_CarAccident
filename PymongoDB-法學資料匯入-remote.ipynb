{
 "cells": [
  {
   "cell_type": "markdown",
   "metadata": {},
   "source": [
    "# 資料庫開啟作業\n",
    "\n",
    "## 安裝mongodb：\n",
    "\n",
    "https://docs.mongodb.com/guides/server/install/\n",
    "\n",
    "## 開啟shell\n",
    "\n",
    "輸入：mongo\n",
    "\n",
    "## API:\n",
    "\n",
    "http://api.mongodb.com/python/current/tutorial.html\n",
    "\n",
    "## Mongo DB shell command:\n",
    "\n",
    "https://docs.mongodb.com/manual/reference/method/\n",
    "\n",
    "## 匯入匯出\n",
    "\n",
    "http://dog0416.blogspot.com/2015/09/databasemongodb-backup-restore-import.html"
   ]
  },
  {
   "cell_type": "markdown",
   "metadata": {},
   "source": [
    "# 引入模組"
   ]
  },
  {
   "cell_type": "code",
   "execution_count": null,
   "metadata": {},
   "outputs": [],
   "source": [
    "import legaltechDataProcess as ltp\n",
    "import json\n",
    "import pymongo\n",
    "from pymongo import MongoClient\n",
    "import pandas as pd\n",
    "import os"
   ]
  },
  {
   "cell_type": "markdown",
   "metadata": {},
   "source": [
    "# 初始化建立資料庫"
   ]
  },
  {
   "cell_type": "code",
   "execution_count": null,
   "metadata": {},
   "outputs": [],
   "source": [
    "collection=ltp.enterLocalMD(\"judgement_database\" ,\"judgement\")\n",
    "collection2=ltp.enterOnlineMD(\"LegalTech\" ,\"solatium\")"
   ]
  },
  {
   "cell_type": "markdown",
   "metadata": {},
   "source": [
    "# local端處理\n",
    "\n",
    "local端DB篩選資料，並存為json陣列"
   ]
  },
  {
   "cell_type": "code",
   "execution_count": null,
   "metadata": {},
   "outputs": [],
   "source": [
    "#快\n",
    "df=ltp.mdGeneralFilter(collection,reason=\"損害賠償\")#reason=\"損害賠償\",sys=\"民事\"\n",
    "dfx=ltp.pdColFilter(df,\"judgement\",\"慰撫金\")#\"judgement\",\"事故\",\"車禍\"\n",
    "dft=dfx.iloc[:,1:]\n",
    "dft.to_json(\"/Users/benbilly3/Desktop/法學資料判決集/車禍損害賠償/慰撫金\"+\"all\"+\".json\",orient='records')\n",
    "\n",
    "\n",
    "\n",
    "#慢\n",
    "# i=[i for i in range(1600000,8800000,500000)]\n",
    "# j=i[1:]\n",
    "\n",
    "# for num1,num2 in zip(i,j):\n",
    "#     print(num1,num2)\n",
    "#     try:\n",
    "#         df=ltp.pdColFilter(ltp.pdGet(collection,num1,num2),\"judgement\",\"事故\",\"車禍\")\n",
    "#         df=df.astype(str)#欄位內容有list，需轉字串\n",
    "#         df=ltp.pdColFilter(df,\"reason\",\"損害賠償\")\n",
    "#         df=df.iloc[:,1:]\n",
    "#         df.to_json(\"/Users/benbilly3/Desktop/法學資料判決集/車禍損害賠償/車禍損害賠償\"+str(num2)+\".json\",orient='records')\n",
    "#     except:\n",
    "#         pass\n",
    "#     #orient='records'將每一列獨自切割成json合到list"
   ]
  },
  {
   "cell_type": "markdown",
   "metadata": {},
   "source": [
    "# 匯入DB"
   ]
  },
  {
   "cell_type": "code",
   "execution_count": null,
   "metadata": {},
   "outputs": [],
   "source": [
    "mypath=\"/Users/benbilly3/Desktop/法學資料判決集\"\n",
    "files_name=os.listdir(mypath)\n",
    "files_name.remove('.DS_Store')\n",
    "dirs_list=[mypath+\"/\"+i for i in files_name]#法院資料夾路徑\n",
    "\n",
    "#陣列輸出函式\n",
    "ltp.jdImport2(dirs_list[0:1],collection2)"
   ]
  },
  {
   "cell_type": "markdown",
   "metadata": {},
   "source": [
    "# 查詢collection列數"
   ]
  },
  {
   "cell_type": "code",
   "execution_count": null,
   "metadata": {},
   "outputs": [],
   "source": [
    "collection.count_documents({})"
   ]
  },
  {
   "cell_type": "markdown",
   "metadata": {},
   "source": [
    "# 刪除collection"
   ]
  },
  {
   "cell_type": "code",
   "execution_count": null,
   "metadata": {},
   "outputs": [],
   "source": [
    "# collection2.drop()# 或是 db.drop_collection(\"foo\")"
   ]
  }
 ],
 "metadata": {
  "kernelspec": {
   "display_name": "Python 3",
   "language": "python",
   "name": "python3"
  },
  "language_info": {
   "codemirror_mode": {
    "name": "ipython",
    "version": 3
   },
   "file_extension": ".py",
   "mimetype": "text/x-python",
   "name": "python",
   "nbconvert_exporter": "python",
   "pygments_lexer": "ipython3",
   "version": "3.6.8"
  }
 },
 "nbformat": 4,
 "nbformat_minor": 2
}
